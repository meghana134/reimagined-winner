{
  "nbformat": 4,
  "nbformat_minor": 0,
  "metadata": {
    "colab": {
      "name": "GUESSGAME",
      "provenance": [],
      "collapsed_sections": [],
      "authorship_tag": "ABX9TyPqVanV4naZuSm/NtR706/X",
      "include_colab_link": true
    },
    "kernelspec": {
      "name": "python3",
      "display_name": "Python 3"
    }
  },
  "cells": [
    {
      "cell_type": "markdown",
      "metadata": {
        "id": "view-in-github",
        "colab_type": "text"
      },
      "source": [
        "<a href=\"https://colab.research.google.com/github/meghana134/reimagined-winner/blob/master/GUESSGAME.ipynb\" target=\"_parent\"><img src=\"https://colab.research.google.com/assets/colab-badge.svg\" alt=\"Open In Colab\"/></a>"
      ]
    },
    {
      "cell_type": "code",
      "metadata": {
        "id": "o0j_-914Ahqm",
        "colab_type": "code",
        "colab": {
          "base_uri": "https://localhost:8080/",
          "height": 1000
        },
        "outputId": "77d5b5f8-5649-45de-8b2c-8fbfeadc00ef"
      },
      "source": [
        "import random \n",
        "# library that we use in order to choose \n",
        "# on random words from a list of words \n",
        "\n",
        "name = input(\"What is your name? \") \n",
        "# Here the user is asked to enter the name first \n",
        "\n",
        "print(\"Good Luck ! \", name) \n",
        "\n",
        "words = ['rainbow', 'computer', 'science', 'programming', \n",
        "\t\t'python', 'mathematics', 'player', 'condition', \n",
        "\t\t'reverse', 'water', 'board', 'geeks'] \n",
        "\n",
        "# Function will choose one random \n",
        "# word from this list of words \n",
        "word = random.choice(words) \n",
        "\n",
        "\n",
        "print(\"Guess the characters\") \n",
        "\n",
        "guesses = '' \n",
        "\n",
        "# any number of turns can be used here \n",
        "turns = 12\n",
        "\n",
        "\n",
        "while turns > 0: \n",
        "\t\n",
        "\t# counts the number of times a user fails \n",
        "\tfailed = 0\n",
        "\t\n",
        "\t# all characters from the input \n",
        "\t# word taking one at a time. \n",
        "\tfor char in word: \n",
        "\t\t\n",
        "\t\t# comparing that character with \n",
        "\t\t# the character in guesses \n",
        "\t\tif char in guesses: \n",
        "\t\t\tprint(char) \n",
        "\t\t\t\n",
        "\t\telse: \n",
        "\t\t\tprint(\"_\") \n",
        "\t\t\t\n",
        "\t\t\t# for every failure 1 will be \n",
        "\t\t\t# incremented in failure \n",
        "\t\t\tfailed += 1\n",
        "\t\t\t\n",
        "\n",
        "\tif failed == 0: \n",
        "\t\t# user will win the game if failure is 0 \n",
        "\t\t# and 'You Win' will be given as output \n",
        "\t\tprint(\"You Win :)\") \n",
        "\t\t\n",
        "\t\t# this print the correct word \n",
        "\t\tprint(\"The word is: \", word) \n",
        "\t\tbreak\n",
        "\t\n",
        "\t# if user has input the wrong alphabet then \n",
        "\t# it will ask user to enter another alphabet \n",
        "\tguess = input(\"guess a character:\") \n",
        "\t\n",
        "\t# every input character will be stored in guesses \n",
        "\tguesses += guess \n",
        "\t\n",
        "\t# check input with the character in word \n",
        "\tif guess not in word: \n",
        "\t\t\n",
        "\t\tturns -= 1\n",
        "\t\t\n",
        "\t\t# if the character doesn’t match the word \n",
        "\t\t# then “Wrong” will be given as output \n",
        "\t\tprint(\"Wrong\") \n",
        "\t\t\n",
        "\t\t# this will print the number of \n",
        "\t\t# turns left for the user \n",
        "\t\tprint(\"You have\", + turns, 'more guesses') \n",
        "\t\t\n",
        "\t\t\n",
        "\t\tif turns == 0: \n",
        "\t\t\tprint(\"You Loose :(\")\n",
        " \n"
      ],
      "execution_count": null,
      "outputs": [
        {
          "output_type": "stream",
          "text": [
            "What is your name? megha\n",
            "Good Luck !  megha\n",
            "Guess the characters\n",
            "_\n",
            "_\n",
            "_\n",
            "_\n",
            "_\n",
            "_\n",
            "_\n",
            "_\n",
            "guess a character:f\n",
            "Wrong\n",
            "You have 11 more guesses\n",
            "_\n",
            "_\n",
            "_\n",
            "_\n",
            "_\n",
            "_\n",
            "_\n",
            "_\n",
            "guess a character:h\n",
            "Wrong\n",
            "You have 10 more guesses\n",
            "_\n",
            "_\n",
            "_\n",
            "_\n",
            "_\n",
            "_\n",
            "_\n",
            "_\n",
            "guess a character:a\n",
            "Wrong\n",
            "You have 9 more guesses\n",
            "_\n",
            "_\n",
            "_\n",
            "_\n",
            "_\n",
            "_\n",
            "_\n",
            "_\n",
            "guess a character:d\n",
            "Wrong\n",
            "You have 8 more guesses\n",
            "_\n",
            "_\n",
            "_\n",
            "_\n",
            "_\n",
            "_\n",
            "_\n",
            "_\n",
            "guess a character:o\n",
            "_\n",
            "o\n",
            "_\n",
            "_\n",
            "_\n",
            "_\n",
            "_\n",
            "_\n",
            "guess a character:c\n",
            "c\n",
            "o\n",
            "_\n",
            "_\n",
            "_\n",
            "_\n",
            "_\n",
            "_\n",
            "guess a character:m\n",
            "c\n",
            "o\n",
            "m\n",
            "_\n",
            "_\n",
            "_\n",
            "_\n",
            "_\n"
          ],
          "name": "stdout"
        }
      ]
    },
    {
      "cell_type": "markdown",
      "metadata": {
        "id": "H8d_rp6UJqoF",
        "colab_type": "text"
      },
      "source": [
        "Python is a powerful multi-purpose programming language used by multiple giant companies. It has simple and easy to use syntax making it perfect language for someone trying to learn computer programming for first time. It is a high-level programming language, and its core design philosophy is all about code readability and a syntax which allows programmers to express concepts in a few lines of code.\n",
        "\n",
        "In this article, we will use random module to make a word guessing game. This game is for beginners learning to code in python and to give them a little brief about using strings, loops and conditional(If, else) statements.\n",
        "\n",
        "random module : Sometimes we want the computer to pick a random number in a given range, pick a random element from a list, pick a random card from a deck, flip a coin, etc. The random module provides access to functions that support these types of operations. One such operation is random.choice() method (returns a random item from a list, tuple, or string.) that we are going to use in order to select one random word from a list of words that we’ve created.\n",
        "\n",
        "In this game, there is a list of words present, out of which our interpreter will choose 1 random word. The user first has to input their names and then, will be asked to guess any alphabet. If the random word contains that alphabet, it will be shown as the output(with correct placement) else the program will ask you to guess another alphabet. User will be given 12 turns(can be changed accordingly) to guess the complete word."
      ]
    },
    {
      "cell_type": "code",
      "metadata": {
        "id": "x7T0mC7ZJtYh",
        "colab_type": "code",
        "colab": {}
      },
      "source": [
        ""
      ],
      "execution_count": null,
      "outputs": []
    },
    {
      "cell_type": "code",
      "metadata": {
        "id": "Czl1YjBj0ubt",
        "colab_type": "code",
        "colab": {}
      },
      "source": [
        ""
      ],
      "execution_count": null,
      "outputs": []
    },
    {
      "cell_type": "code",
      "metadata": {
        "id": "IIUYOBfr0uwI",
        "colab_type": "code",
        "colab": {}
      },
      "source": [
        ""
      ],
      "execution_count": null,
      "outputs": []
    }
  ]
}